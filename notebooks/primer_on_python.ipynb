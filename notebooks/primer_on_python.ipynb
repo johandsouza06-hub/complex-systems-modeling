{
  "cells": [
    {
      "cell_type": "markdown",
      "metadata": {
        "id": "title_cell"
      },
      "source": [
        "[![Open In Colab](https://colab.research.google.com/assets/colab-badge.svg)](https://colab.research.google.com/github/batmanvane/complex-systems-modeling/blob/main/notebooks/primer_on_python.ipynb)\n",
        "# Python Primer for Complex Systems Modeling\n",
        "## Engineering Students Preparation Guide\n",
        "\n",
        "This notebook covers essential Python concepts needed for complex systems modeling. Work through each section systematically and run all code cells.\n",
        "\n",
        "**Prerequisites:** Basic programming knowledge helpful but not required\n",
        "**Target:** Engineering students entering complex systems modeling course\n",
        "\n",
        "**Instructions:**\n",
        "- Read the explanatory text carefully before running code cells\n",
        "- Execute code cells by pressing Shift+Enter\n",
        "- Experiment with modifying the examples to deepen understanding\n",
        "- Use the help resources described in Part 0 when you encounter problems"
      ]
    },
    {
      "cell_type": "markdown",
      "metadata": {
        "id": "part0_title"
      },
      "source": [
        "---\n",
        "## 0. GETTING HELP AND DOCUMENTATION\n",
        "\n",
        "**CRITICAL SKILL: Learning how to find help and read documentation**\n",
        "\n",
        "Scientific programming requires constant learning. You will encounter new functions, libraries, and error messages regularly. Knowing how to get help efficiently is more important than memorizing syntax."
      ]
    },
    {
      "cell_type": "code",
      "execution_count": null,
      "metadata": {
        "id": "help_methods"
      },
      "outputs": [],
      "source": [
        "print(\"=== GETTING HELP IN PYTHON ===\")\n",
        "\n",
        "# Method 1: Built-in help() function\n",
        "print(\"Method 1: help() function provides detailed documentation\")\n",
        "# help(print) # Uncomment this line to see full documentation\n",
        "\n",
        "# Method 2: Using ? in Jupyter\n",
        "print(\"Method 2: In Jupyter, type 'function_name?' for quick help\")\n",
        "\n",
        "# Method 3: Object inspection with dir()\n",
        "print(\"Method 3: dir() shows available methods\")\n",
        "example_string = \"hello world\"\n",
        "print(f\"String methods (first 10): {dir(example_string)[:10]}\")\n",
        "\n",
        "# Method 4: Docstrings - reading function documentation\n",
        "def example_function(x, y):\n",
        "    \"\"\"Example function showing proper documentation.\n",
        "\n",
        "    Parameters:\n",
        "    x (float): First parameter\n",
        "    y (float): Second parameter\n",
        "\n",
        "    Returns:\n",
        "    float: Sum of x and y\n",
        "    \"\"\"\n",
        "    return x + y\n",
        "\n",
        "print(f\"Function docstring: {example_function.__doc__}\")"
      ]
    },
    {
      "cell_type": "markdown",
      "metadata": {
        "id": "help_resources"
      },
      "source": [
        "### Essential Documentation Resources\n",
        "\n",
        "1. **Official Python Documentation:** https://docs.python.org/3/\n",
        "2. **NumPy Documentation:** https://numpy.org/doc/stable/\n",
        "3. **Matplotlib Documentation:** https://matplotlib.org/stable/\n",
        "4. **Stack Overflow:** https://stackoverflow.com/ (search error messages here)\n",
        "\n",
        "### Best Practices for Getting Help\n",
        "\n",
        "- Read error messages carefully (last line is most important)\n",
        "- Start with simple examples from documentation\n",
        "- Copy working examples, then modify gradually\n",
        "- Use descriptive search terms: \"numpy array indexing\" not \"python broken\"\n",
        "- Check data types and shapes when debugging"
      ]
    },
    {
      "cell_type": "markdown",
      "metadata": {
        "id": "part1_title"
      },
      "source": [
        "---\n",
        "## 1. JUPYTER NOTEBOOK FUNDAMENTALS\n",
        "\n",
        "**Understanding Jupyter Notebooks**\n",
        "\n",
        "Jupyter notebooks combine code, documentation, and visualizations. They are the standard tool for scientific computing.\n",
        "\n",
        "**Key components:**\n",
        "- Code cells: Executable Python code\n",
        "- Markdown cells: Text documentation\n",
        "- Output cells: Results display"
      ]
    },
    {
      "cell_type": "code",
      "execution_count": null,
      "metadata": {
        "id": "jupyter_basics"
      },
      "outputs": [],
      "source": [
        "print(\"Welcome to Python for Complex Systems Modeling!\")\n",
        "print(\"This is a code cell. Press Shift+Enter to execute it.\")\n",
        "\n",
        "# Variable persistence between cells\n",
        "notebook_variable = \"Variables persist between cells\"\n",
        "magic_number = 42\n",
        "\n",
        "print(f\"Created variables: {notebook_variable}\")\n",
        "print(f\"Magic number: {magic_number}\")"
      ]
    },
    {
      "cell_type": "markdown",
      "metadata": {
        "id": "jupyter_tips"
      },
      "source": [
        "### Jupyter Shortcuts\n",
        "- **Shift+Enter:** Run cell, move to next\n",
        "- **Ctrl+Enter:** Run cell, stay in place\n",
        "- **Tab:** Auto-completion\n",
        "- **Shift+Tab:** Function help\n",
        "\n",
        "### Best Practices\n",
        "- Run cells from top to bottom\n",
        "- Use meaningful variable names\n",
        "- Comment your code\n",
        "- Restart and run all before sharing"
      ]
    },
    {
      "cell_type": "markdown",
      "metadata": {
        "id": "part2_title"
      },
      "source": [
        "---\n",
        "## 2. BASIC DATA TYPES AND VARIABLES\n",
        "\n",
        "**Python Data Types for Scientific Computing**\n",
        "\n",
        "Understanding data types is crucial because:\n",
        "- Different operations work on different types\n",
        "- Type mismatches cause errors\n",
        "- Memory usage varies between types"
      ]
    },
    {
      "cell_type": "code",
      "execution_count": null,
      "metadata": {
        "id": "basic_types"
      },
      "outputs": [],
      "source": [
        "print(\"=== FUNDAMENTAL DATA TYPES ===\")\n",
        "\n",
        "# Basic numeric types\n",
        "integer_val = 42\n",
        "float_val = 3.14159\n",
        "complex_val = 3 + 4j\n",
        "string_val = \"Complex Systems\"\n",
        "boolean_val = True\n",
        "\n",
        "print(f\"Integer: {integer_val} (type: {type(integer_val).__name__})\")\n",
        "print(f\"Float: {float_val} (type: {type(float_val).__name__})\")\n",
        "print(f\"Complex: {complex_val} (type: {type(complex_val).__name__})\")\n",
        "print(f\"String: '{string_val}' (type: {type(string_val).__name__})\")\n",
        "print(f\"Boolean: {boolean_val} (type: {type(boolean_val).__name__})\")"
      ]
    },
    {
      "cell_type": "code",
      "execution_count": null,
      "metadata": {
        "id": "scientific_notation"
      },
      "outputs": [],
      "source": [
        "# Scientific notation\n",
        "avogadro = 6.022e23\n",
        "planck = 6.626e-34\n",
        "electron_charge = 1.602e-19\n",
        "\n",
        "print(\"=== SCIENTIFIC NOTATION ===\")\n",
        "print(f\"Avogadro number: {avogadro:.3e}\")\n",
        "print(f\"Planck constant: {planck:.3e}\")\n",
        "print(f\"Electron charge: {electron_charge:.3e}\")\n",
        "\n",
        "# Type conversion\n",
        "print(\"\\n=== TYPE CONVERSION ===\")\n",
        "string_number = \"3.14159\"\n",
        "converted_float = float(string_number)\n",
        "converted_int = int(converted_float)\n",
        "\n",
        "print(f\"String '{string_number}' → Float {converted_float} → Int {converted_int}\")"
      ]
    },
    {
      "cell_type": "markdown",
      "metadata": {
        "id": "part3_title"
      },
      "source": [
        "---\n",
        "## 3. ESSENTIAL DATA STRUCTURES\n",
        "\n",
        "**Data Structures for Organizing Scientific Data**\n",
        "\n",
        "Lists, tuples, and dictionaries help organize complex information efficiently. Each has specific use cases in scientific computing."
      ]
    },
    {
      "cell_type": "code",
      "execution_count": null,
      "metadata": {
        "id": "lists_demo"
      },
      "outputs": [],
      "source": [
        "print(\"=== LISTS: Flexible sequences ===\")\n",
        "\n",
        "# Lists are mutable (changeable)\n",
        "measurements = [1.2, 2.4, 3.6, 4.8, 5.0]\n",
        "field_names = ['temperature', 'pressure', 'velocity']\n",
        "\n",
        "print(f\"Measurements: {measurements}\")\n",
        "print(f\"First: {measurements[0]}, Last: {measurements[-1]}\")\n",
        "\n",
        "# List operations\n",
        "measurements.append(6.2)\n",
        "print(f\"After adding: {measurements}\")"
      ]
    },
    {
      "cell_type": "code",
      "execution_count": null,
      "metadata": {
        "id": "tuples_demo"
      },
      "outputs": [],
      "source": [
        "print(\"=== TUPLES: Fixed sequences ===\")\n",
        "\n",
        "# Tuples are immutable (unchangeable) - good for coordinates\n",
        "point_3d = (10.0, 20.0, 30.0)\n",
        "grid_size = (100, 200, 50)\n",
        "\n",
        "print(f\"3D point: {point_3d}\")\n",
        "print(f\"Coordinates: x={point_3d[0]}, y={point_3d[1]}, z={point_3d[2]}\")\n",
        "\n",
        "# Tuple unpacking\n",
        "x, y, z = point_3d\n",
        "print(f\"Unpacked: x={x}, y={y}, z={z}\")"
      ]
    },
    {
      "cell_type": "code",
      "execution_count": null,
      "metadata": {
        "id": "dictionaries_demo"
      },
      "outputs": [],
      "source": [
        "print(\"=== DICTIONARIES: Parameter storage ===\")\n",
        "\n",
        "# Dictionaries store key-value pairs - perfect for simulation parameters\n",
        "simulation_params = {\n",
        "    'timestep': 0.01,\n",
        "    'duration': 10.0,\n",
        "    'grid_size': (100, 100),\n",
        "    'boundary_type': 'periodic',\n",
        "    'tolerance': 1e-6\n",
        "}\n",
        "\n",
        "print(\"Simulation parameters:\")\n",
        "for param, value in simulation_params.items():\n",
        "    print(f\" {param}: {value}\")\n",
        "\n",
        "# Access by key\n",
        "dt = simulation_params['timestep']\n",
        "steps = int(simulation_params['duration'] / dt)\n",
        "print(f\"Calculated steps: {steps}\")"
      ]
    },
    {
      "cell_type": "markdown",
      "metadata": {
        "id": "part4_title"
      },
      "source": [
        "---\n",
        "## 4. CONTROL STRUCTURES\n",
        "\n",
        "**Control Flow in Scientific Computing**\n",
        "\n",
        "Control structures determine execution order:\n",
        "- **for loops:** iterate through data or time steps\n",
        "- **while loops:** continue until convergence\n",
        "- **if statements:** make decisions based on conditions"
      ]
    },
    {
      "cell_type": "code",
      "execution_count": null,
      "metadata": {
        "id": "for_loops_demo"
      },
      "outputs": [],
      "source": [
        "print(\"=== FOR LOOPS: Processing data ===\")\n",
        "\n",
        "# Process experimental data\n",
        "temperatures = [18.5, 22.3, 25.1, 19.8, 23.4]\n",
        "\n",
        "for i, temp in enumerate(temperatures):\n",
        "    temp_kelvin = temp + 273.15\n",
        "    if temp > 25:\n",
        "        status = \"high\"\n",
        "    elif temp > 20:\n",
        "        status = \"normal\"\n",
        "    else:\n",
        "        status = \"low\"\n",
        "    print(f\"Measurement {i+1}: {temp}°C = {temp_kelvin:.1f}K ({status})\")"
      ]
    },
    {
      "cell_type": "code",
      "execution_count": null,
      "metadata": {
        "id": "time_stepping"
      },
      "outputs": [],
      "source": [
        "# Time stepping\n",
        "print(\"=== Time stepping simulation ===\")\n",
        "dt = 0.2\n",
        "position = 0.0\n",
        "velocity = 3.0\n",
        "\n",
        "for step in range(6):\n",
        "    time = step * dt\n",
        "    print(f\"Step {step}: t={time:.1f}s, pos={position:.2f}m\")\n",
        "    position += velocity * dt"
      ]
    },
    {
      "cell_type": "code",
      "execution_count": null,
      "metadata": {
        "id": "while_loops_demo"
      },
      "outputs": [],
      "source": [
        "print(\"=== WHILE LOOPS: Convergence ===\")\n",
        "\n",
        "# Simulate iterative convergence\n",
        "iteration = 0\n",
        "error = 1.0\n",
        "tolerance = 0.01\n",
        "\n",
        "while error > tolerance and iteration < 10:\n",
        "    error *= 0.6\n",
        "    iteration += 1\n",
        "    print(f\"Iteration {iteration}: error = {error:.4f}\")\n",
        "\n",
        "print(f\"Converged: {'Yes' if error <= tolerance else 'No'}\")"
      ]
    },
    {
      "cell_type": "code",
      "execution_count": 2,
      "metadata": {
        "id": "conditionals_demo",
        "outputId": "12070df4-1524-45ae-adba-b66736cd8978",
        "colab": {
          "base_uri": "https://localhost:8080/"
        }
      },
      "outputs": [
        {
          "output_type": "stream",
          "name": "stdout",
          "text": [
            "=== CONDITIONAL STATEMENTS ===\n",
            "Re = 1000: laminar flow\n",
            "Re = 3000: transitional flow\n",
            "Re = 5000: turbulent flow\n"
          ]
        }
      ],
      "source": [
        "print(\"=== CONDITIONAL STATEMENTS ===\")\n",
        "\n",
        "# Classify Reynolds numbers\n",
        "reynolds_numbers = [1000, 3000, 5000]\n",
        "\n",
        "for Re in reynolds_numbers:\n",
        "    if Re < 2300:\n",
        "        regime = \"laminar\"\n",
        "    elif Re < 4000:\n",
        "        regime = \"transitional\"\n",
        "    else:\n",
        "        regime = \"turbulent\"\n",
        "    print(f\"Re = {Re}: {regime} flow\")"
      ]
    },
    {
      "cell_type": "code",
      "source": [],
      "metadata": {
        "id": "LiJjJH9hUylG"
      },
      "execution_count": null,
      "outputs": []
    },
    {
      "cell_type": "markdown",
      "metadata": {
        "id": "part5_title"
      },
      "source": [
        "---\n",
        "## 5. FUNCTIONS - MODULAR PROGRAMMING\n",
        "\n",
        "**Functions in Scientific Computing**\n",
        "\n",
        "Functions organize code into reusable components:\n",
        "- Encapsulate calculations\n",
        "- Reduce code duplication\n",
        "- Enable testing\n",
        "- Improve readability\n",
        "- make"
      ]
    },
    {
      "cell_type": "code",
      "execution_count": null,
      "metadata": {
        "id": "basic_function"
      },
      "outputs": [],
      "source": [
        "print(\"=== BASIC FUNCTION EXAMPLE ===\")\n",
        "\n",
        "def calculate_kinetic_energy(mass, velocity):\n",
        "    \"\"\"Calculate kinetic energy: KE = (1/2) * m * v²\n",
        "\n",
        "    Parameters:\n",
        "    mass (float): Mass in kg\n",
        "    velocity (float): Velocity in m/s\n",
        "\n",
        "    Returns:\n",
        "    float: Kinetic energy in Joules\n",
        "    \"\"\"\n",
        "    return 0.5 * mass * velocity**2\n",
        "\n",
        "# Test the function\n",
        "test_cases = [(1.0, 10.0), (2.0, 5.0), (0.5, 20.0)]\n",
        "\n",
        "for mass, vel in test_cases:\n",
        "    ke = calculate_kinetic_energy(mass, vel)\n",
        "    print(f\"m={mass}kg, v={vel}m/s → KE={ke}J\")"
      ]
    },
    {
      "cell_type": "code",
      "execution_count": null,
      "metadata": {
        "id": "error_handling"
      },
      "outputs": [],
      "source": [
        "print(\"=== FUNCTION WITH ERROR CHECKING ===\")\n",
        "\n",
        "def safe_division(numerator, denominator):\n",
        "    \"\"\"Demonstrate error handling.\n",
        "\n",
        "    Parameters:\n",
        "    numerator (float): Numerator\n",
        "    denominator (float): Denominator\n",
        "\n",
        "    Returns:\n",
        "    float: Result of division or infinity if denominator is zero\n",
        "    \"\"\"\n",
        "    try:\n",
        "        return numerator / denominator\n",
        "    except ZeroDivisionError:\n",
        "        print(\"Warning: Division by zero!\")\n",
        "        return float('inf')\n",
        "\n",
        "# Test error handling\n",
        "print(f\"10/2 = {safe_division(10, 2)}\")\n",
        "print(f\"10/0 = {safe_division(10, 0)}\")"
      ]
    },
    {
      "cell_type": "code",
      "execution_count": null,
      "metadata": {
        "id": "multiple_returns"
      },
      "outputs": [],
      "source": [
        "print(\"=== FUNCTION RETURNING MULTIPLE VALUES ===\")\n",
        "\n",
        "def analyze_data(data_list):\n",
        "    \"\"\"Calculate basic statistics.\n",
        "\n",
        "    Parameters:\n",
        "    data_list (list): List of numerical data\n",
        "\n",
        "    Returns:\n",
        "    tuple: Mean, minimum, and maximum values\n",
        "    \"\"\"\n",
        "    if not data_list:\n",
        "        return 0, 0, 0\n",
        "\n",
        "    mean_val = sum(data_list) / len(data_list)\n",
        "    min_val = min(data_list)\n",
        "    max_val = max(data_list)\n",
        "\n",
        "    return mean_val, min_val, max_val\n",
        "\n",
        "# Test with sample data\n",
        "sample_data = [12.1, 15.3, 18.7, 14.2, 16.8]\n",
        "mean, minimum, maximum = analyze_data(sample_data)\n",
        "\n",
        "print(f\"Data: {sample_data}\")\n",
        "print(f\"Mean: {mean:.2f}, Range: [{minimum}, {maximum}]\")"
      ]
    },
    {
      "cell_type": "markdown",
      "metadata": {
        "id": "part6_title"
      },
      "source": [
        "---\n",
        "## 6. NUMPY - NUMERICAL COMPUTING FOUNDATION\n",
        "\n",
        "**NumPy: The Foundation of Scientific Python**\n",
        "\n",
        "NumPy provides fast arrays and mathematical functions:\n",
        "- 10-100x faster than Python lists\n",
        "- Memory efficient\n",
        "- Vectorized operations\n",
        "- Foundation for other scientific libraries"
      ]
    },
    {
      "cell_type": "code",
      "execution_count": null,
      "metadata": {
        "id": "numpy_import"
      },
      "outputs": [],
      "source": [
        "import numpy as np\n",
        "\n",
        "print(\"=== CREATING NUMPY ARRAYS ===\")\n",
        "\n",
        "# From Python lists\n",
        "python_list = [1, 2, 3, 4, 5]\n",
        "numpy_array = np.array(python_list)\n",
        "\n",
        "print(f\"Python list: {python_list}\")\n",
        "print(f\"NumPy array: {numpy_array}\")\n",
        "print(f\"Array shape: {numpy_array.shape}\")\n",
        "print(f\"Array type: {numpy_array.dtype}\")\n",
        "\n",
        "# 2D arrays (matrices)\n",
        "matrix = np.array([[1, 2, 3],\n",
        "                   [4, 5, 6]])\n",
        "print(f\"2D array shape: {matrix.shape}\")\n",
        "print(f\"2D array:\\n{matrix}\")"
      ]
    },
    {
      "cell_type": "code",
      "execution_count": null,
      "metadata": {
        "id": "array_creation"
      },
      "outputs": [],
      "source": [
        "print(\"=== ARRAY CREATION FUNCTIONS ===\")\n",
        "\n",
        "# Specialized arrays\n",
        "zeros_array = np.zeros(5)\n",
        "ones_array = np.ones((2, 3))\n",
        "identity_matrix = np.eye(3)\n",
        "linear_space = np.linspace(0, 10, 6)\n",
        "\n",
        "print(f\"Zeros: {zeros_array}\")\n",
        "print(f\"Ones (2x3):\\n{ones_array}\")\n",
        "print(f\"Identity (3x3):\\n{identity_matrix}\")\n",
        "print(f\"Linear space: {linear_space}\")"
      ]
    },
    {
      "cell_type": "code",
      "execution_count": null,
      "metadata": {
        "id": "vectorized_ops"
      },
      "outputs": [],
      "source": [
        "print(\"=== VECTORIZED OPERATIONS ===\")\n",
        "\n",
        "# Element-wise operations\n",
        "x = np.array([1, 2, 3, 4])\n",
        "y = np.array([2, 4, 6, 8])\n",
        "\n",
        "print(f\"x = {x}\")\n",
        "print(f\"y = {y}\")\n",
        "print(f\"x + y = {x + y}\")\n",
        "print(f\"x * y = {x * y}\")\n",
        "print(f\"x² = {x**2}\")\n",
        "\n",
        "# Mathematical functions\n",
        "angles = np.array([0, np.pi/2, np.pi])\n",
        "print(f\"Angles: {angles}\")\n",
        "print(f\"sin(angles): {np.sin(angles)}\")\n",
        "print(f\"cos(angles): {np.cos(angles)}\")"
      ]
    },
    {
      "cell_type": "code",
      "execution_count": null,
      "metadata": {
        "id": "numpy_statistics"
      },
      "outputs": [],
      "source": [
        "print(\"=== STATISTICAL OPERATIONS ===\")\n",
        "\n",
        "# Generate sample data\n",
        "np.random.seed(42)\n",
        "data = np.random.normal(100, 15, 1000)\n",
        "\n",
        "print(f\"Sample size: {len(data)}\")\n",
        "print(f\"Mean: {np.mean(data):.2f}\")\n",
        "print(f\"Std Dev: {np.std(data):.2f}\")\n",
        "print(f\"Min: {np.min(data):.2f}\")\n",
        "print(f\"Max: {np.max(data):.2f}\")\n",
        "\n",
        "# Array indexing\n",
        "print(\"\\n=== ARRAY INDEXING ===\")\n",
        "data_subset = np.array([10, 20, 30, 40, 50])\n",
        "\n",
        "print(f\"Array: {data_subset}\")\n",
        "print(f\"First: {data_subset[0]}\")\n",
        "print(f\"Last: {data_subset[-1]}\")\n",
        "print(f\"Middle three: {data_subset[1:4]}\")\n",
        "\n",
        "# Boolean indexing\n",
        "large_values = data_subset[data_subset > 25]\n",
        "print(f\"Values > 25: {large_values}\")"
      ]
    },
    {
      "cell_type": "markdown",
      "metadata": {
        "id": "part7_title"
      },
      "source": [
        "---\n",
        "## 7. MATPLOTLIB - VISUALIZATION\n",
        "\n",
        "**Matplotlib: Creating Scientific Plots**\n",
        "\n",
        "Visualization reveals patterns in data and communicates findings. Matplotlib is the standard plotting library for Python."
      ]
    },
    {
      "cell_type": "code",
      "execution_count": null,
      "metadata": {
        "id": "basic_plot"
      },
      "outputs": [],
      "source": [
        "import matplotlib.pyplot as plt\n",
        "\n",
        "print(\"=== BASIC LINE PLOT ===\")\n",
        "\n",
        "# Generate data for plotting\n",
        "t = np.linspace(0, 2*np.pi, 100)\n",
        "y1 = np.sin(t)\n",
        "y2 = np.cos(t)\n",
        "\n",
        "# Create plot\n",
        "plt.figure(figsize=(10, 6))\n",
        "plt.plot(t, y1, 'b-', linewidth=2, label='sin(t)')\n",
        "plt.plot(t, y2, 'r--', linewidth=2, label='cos(t)')\n",
        "plt.xlabel('Time [s]')\n",
        "plt.ylabel('Amplitude')\n",
        "plt.title('Trigonometric Functions')\n",
        "plt.legend()\n",
        "plt.grid(True, alpha=0.3)\n",
        "plt.show()\n",
        "\n",
        "print(\"Created basic line plot with sin and cos functions\")"
      ]
    },
    {
      "cell_type": "code",
      "execution_count": null,
      "metadata": {
        "id": "subplots_demo"
      },
      "outputs": [],
      "source": [
        "print(\"=== SUBPLOTS ===\")\n",
        "\n",
        "# Multiple plots in one figure\n",
        "fig, (ax1, ax2) = plt.subplots(1, 2, figsize=(12, 5))\n",
        "\n",
        "# Left plot: Exponential decay\n",
        "t_exp = np.linspace(0, 5, 50)\n",
        "y_exp = np.exp(-0.5 * t_exp)\n",
        "ax1.plot(t_exp, y_exp, 'g-', linewidth=2)\n",
        "ax1.set_xlabel('Time [s]')\n",
        "ax1.set_ylabel('Amplitude')\n",
        "ax1.set_title('Exponential Decay')\n",
        "ax1.grid(True, alpha=0.3)\n",
        "\n",
        "# Right plot: Random data histogram\n",
        "random_data = np.random.normal(0, 1, 1000)\n",
        "ax2.hist(random_data, bins=30, alpha=0.7, color='purple')\n",
        "ax2.set_xlabel('Value')\n",
        "ax2.set_ylabel('Frequency')\n",
        "ax2.set_title('Normal Distribution')\n",
        "ax2.grid(True, alpha=0.3)\n",
        "\n",
        "plt.tight_layout()\n",
        "plt.show()\n",
        "\n",
        "print(\"Created subplot with exponential decay and histogram\")"
      ]
    },
    {
      "cell_type": "code",
      "execution_count": null,
      "metadata": {
        "id": "scatter_plot"
      },
      "outputs": [],
      "source": [
        "print(\"=== SCATTER PLOT ===\")\n",
        "\n",
        "# Correlation analysis\n",
        "x_data = np.random.normal(0, 1, 200)\n",
        "y_data = 2 * x_data + np.random.normal(0, 0.5, 200)\n",
        "\n",
        "plt.figure(figsize=(8, 6))\n",
        "plt.scatter(x_data, y_data, alpha=0.6, s=30)\n",
        "plt.xlabel('X Variable')\n",
        "plt.ylabel('Y Variable')\n",
        "plt.title('Correlation Example')\n",
        "plt.grid(True, alpha=0.3)\n",
        "plt.show()\n",
        "\n",
        "print(\"Created scatter plot showing correlation\")"
      ]
    },
    {
      "cell_type": "markdown",
      "metadata": {
        "id": "part8_title"
      },
      "source": [
        "---\n",
        "## 8. FILE INPUT/OUTPUT\n",
        "\n",
        "**Reading and Writing Data Files**\n",
        "\n",
        "Scientific work requires loading data from files and saving results. NumPy provides simple functions for common file formats."
      ]
    },
    {
      "cell_type": "code",
      "execution_count": null,
      "metadata": {
        "id": "file_io_demo"
      },
      "outputs": [],
      "source": [
        "print(\"=== SAVING AND LOADING DATA ===\")\n",
        "\n",
        "# Create sample data\n",
        "time_data = np.linspace(0, 10, 101)\n",
        "position_data = np.sin(time_data)\n",
        "velocity_data = np.cos(time_data)\n",
        "\n",
        "# Save to CSV file\n",
        "data_matrix = np.column_stack([time_data, position_data, velocity_data])\n",
        "np.savetxt('simulation_data.csv', data_matrix,\n",
        "           header='time,position,velocity', delimiter=',', comments='')\n",
        "\n",
        "print(\"Data saved to 'simulation_data.csv'\")\n",
        "\n",
        "# Load from CSV file\n",
        "loaded_data = np.loadtxt('simulation_data.csv', delimiter=',', skiprows=1)\n",
        "print(f\"Loaded data shape: {loaded_data.shape}\")\n",
        "print(f\"First 5 rows:\\n{loaded_data[:5]}\")"
      ]
    },
    {
      "cell_type": "code",
      "execution_count": null,
      "metadata": {
        "id": "pandas_demo"
      },
      "outputs": [],
      "source": [
        "# Working with pandas for complex data\n",
        "import pandas as pd\n",
        "\n",
        "# Create DataFrame\n",
        "df = pd.DataFrame({\n",
        "    'time': time_data,\n",
        "    'position': position_data,\n",
        "    'velocity': velocity_data\n",
        "})\n",
        "\n",
        "print(\"DataFrame info:\")\n",
        "print(df.head())\n",
        "print(f\"\\nBasic statistics:\\n{df.describe()}\")"
      ]
    },
    {
      "cell_type": "markdown",
      "metadata": {
        "id": "part9_title"
      },
      "source": [
        "---\n",
        "## 9. OBJECT-ORIENTED PROGRAMMING\n",
        "\n",
        "**Classes for Modeling Complex Systems**\n",
        "\n",
        "Object-oriented programming helps organize complex simulations by grouping related data and functions together."
      ]
    },
    {
      "cell_type": "code",
      "execution_count": null,
      "metadata": {
        "id": "oop_demo"
      },
      "outputs": [],
      "source": [
        "print(\"=== SIMPLE CLASS EXAMPLE ===\")\n",
        "\n",
        "class HarmonicOscillator:\n",
        "    \"\"\"Simple harmonic oscillator model.\"\"\"\n",
        "\n",
        "    def __init__(self, mass, spring_constant, initial_position, initial_velocity):\n",
        "        self.mass = mass\n",
        "        self.k = spring_constant\n",
        "        self.position = initial_position\n",
        "        self.velocity = initial_velocity\n",
        "        self.time = 0.0\n",
        "\n",
        "    def update(self, dt):\n",
        "        \"\"\"Update position and velocity using simple integration.\n",
        "\n",
        "        Parameters:\n",
        "        dt (float): Time step\n",
        "        \"\"\"\n",
        "        # Force: F = -kx\n",
        "        force = -self.k * self.position\n",
        "        acceleration = force / self.mass\n",
        "\n",
        "        # Update velocity and position\n",
        "        self.velocity += acceleration * dt\n",
        "        self.position += self.velocity * dt\n",
        "        self.time += dt\n",
        "\n",
        "    def get_energy(self):\n",
        "        \"\"\"Calculate total energy.\n",
        "\n",
        "        Returns:\n",
        "        float: Total energy (kinetic + potential)\n",
        "        \"\"\"\n",
        "        kinetic = 0.5 * self.mass * self.velocity**2\n",
        "        potential = 0.5 * self.k * self.position**2\n",
        "        return kinetic + potential\n",
        "\n",
        "# Create and test oscillator\n",
        "oscillator = HarmonicOscillator(mass=1.0, spring_constant=10.0,\n",
        "                               initial_position=1.0, initial_velocity=0.0)\n",
        "\n",
        "print(\"Initial state:\")\n",
        "print(f\"Position: {oscillator.position:.3f}\")\n",
        "print(f\"Velocity: {oscillator.velocity:.3f}\")\n",
        "print(f\"Energy: {oscillator.get_energy():.3f}\")\n",
        "\n",
        "# Run simulation\n",
        "dt = 0.1\n",
        "for step in range(5):\n",
        "    oscillator.update(dt)\n",
        "    if step % 2 == 0:\n",
        "        print(f\"Step {step+1}: pos={oscillator.position:.3f}, \"\n",
        "              f\"vel={oscillator.velocity:.3f}, energy={oscillator.get_energy():.3f}\")"
      ]
    },
    {
      "cell_type": "markdown",
      "metadata": {
        "id": "part10_title"
      },
      "source": [
        "---\n",
        "## 10. PRACTICAL EXAMPLES\n",
        "\n",
        "**Examples Relevant to Complex Systems**\n",
        "\n",
        "These examples demonstrate concepts you'll encounter in complex systems:\n",
        "- Iterative maps\n",
        "- Random processes\n",
        "- Dynamical systems"
      ]
    },
    {
      "cell_type": "code",
      "execution_count": null,
      "metadata": {
        "id": "logistic_map"
      },
      "outputs": [],
      "source": [
        "print(\"=== LOGISTIC MAP (Chaos Example) ===\")\n",
        "\n",
        "def logistic_map(x, r):\n",
        "    \"\"\"The logistic map: x_{n+1} = r * x_n * (1 - x_n)\n",
        "\n",
        "    Parameters:\n",
        "    x (float): Current value\n",
        "    r (float): Growth rate parameter\n",
        "\n",
        "    Returns:\n",
        "    float: Next value in the sequence\n",
        "    \"\"\"\n",
        "    return r * x * (1 - x)\n",
        "\n",
        "# Test different r values\n",
        "r_values = [2.8, 3.2, 3.7]\n",
        "x0 = 0.5\n",
        "iterations = 10\n",
        "\n",
        "for r in r_values:\n",
        "    print(f\"\\nLogistic map with r = {r}:\")\n",
        "    x = x0\n",
        "    for i in range(iterations):\n",
        "        print(f\" x_{i} = {x:.4f}\")\n",
        "        x = logistic_map(x, r)"
      ]
    },
    {
      "cell_type": "code",
      "execution_count": null,
      "metadata": {
        "id": "random_walk"
      },
      "outputs": [],
      "source": [
        "print(\"=== RANDOM WALK (Stochastic Process) ===\")\n",
        "\n",
        "def random_walk_1d(steps, step_size=1.0):\n",
        "    \"\"\"Simple 1D random walk.\n",
        "\n",
        "    Parameters:\n",
        "    steps (int): Number of steps\n",
        "    step_size (float): Size of each step\n",
        "\n",
        "    Returns:\n",
        "    numpy.ndarray: Array of positions\n",
        "    \"\"\"\n",
        "    np.random.seed(42)\n",
        "    moves = np.random.choice([-1, 1], size=steps) * step_size\n",
        "    positions = np.cumsum(np.concatenate([[0], moves]))\n",
        "    return positions\n",
        "\n",
        "# Generate random walk\n",
        "walk = random_walk_1d(20)\n",
        "print(f\"Random walk positions: {walk[:10]}...\")\n",
        "print(f\"Final position: {walk[-1]}\")\n",
        "print(f\"Maximum displacement: {np.max(np.abs(walk))}\")\n",
        "\n",
        "# Plot the random walk\n",
        "plt.figure(figsize=(10, 6))\n",
        "plt.plot(walk, 'bo-', markersize=4, linewidth=1)\n",
        "plt.xlabel('Time Step')\n",
        "plt.ylabel('Position')\n",
        "plt.title('1D Random Walk')\n",
        "plt.grid(True, alpha=0.3)\n",
        "plt.show()\n",
        "\n",
        "print(\"Created random walk visualization\")"
      ]
    },
    {
      "cell_type": "markdown",
      "metadata": {
        "id": "part11_title"
      },
      "source": [
        "---\n",
        "## 11. SUMMARY AND NEXT STEPS\n",
        "\n",
        "### Skills You Now Have\n",
        "\n",
        "- Get help and read documentation\n",
        "- Use Jupyter notebooks effectively\n",
        "- Work with Python data types and structures\n",
        "- Write functions for modular code\n",
        "- Use NumPy for efficient numerical computing\n",
        "- Create plots with Matplotlib\n",
        "- Handle file input/output\n",
        "- Apply object-oriented programming concepts\n",
        "- Implement simple dynamical systems\n",
        "\n",
        "### Next Steps for Complex Systems Modeling\n",
        "\n",
        "1. Practice with more complex NumPy operations\n",
        "2. Learn SciPy for advanced scientific computing\n",
        "3. Study numerical integration methods\n",
        "4. Explore network analysis tools\n",
        "5. Work with cellular automata\n",
        "6. Implement agent-based models\n",
        "\n",
        "### Remember\n",
        "\n",
        "- Scientific programming is learned by practice\n",
        "- Start simple, build complexity gradually\n",
        "- Use documentation and examples extensively\n",
        "- Debug systematically using print statements and plots\n",
        "- Focus on clear, readable code over clever tricks\n",
        "\n",
        "**You are now ready for complex systems modeling! Good luck with the course!**"
      ]
    },
    {
      "cell_type": "code",
      "execution_count": null,
      "metadata": {
        "id": "final_message"
      },
      "outputs": [],
      "source": [
        "print(\"=\" * 60)\n",
        "print(\"CONGRATULATIONS!\")\n",
        "print(\"=\" * 60)\n",
        "print(\"You have completed the Python primer for complex systems modeling.\")\n",
        "print(\"You now have the foundational skills needed for the course.\")\n",
        "print(\"\")\n",
        "print(\"Key takeaways:\")\n",
        "print(\"- Always read the documentation when learning new functions\")\n",
        "print(\"- Use NumPy for numerical computations (it's much faster!)\")\n",
        "print(\"- Visualize your data to understand what's happening\")\n",
        "print(\"- Write functions to organize and reuse your code\")\n",
        "print(\"- Practice makes perfect in scientific programming\")\n",
        "print(\"\")\n",
        "print(\"Ready for complex systems modeling!\")"
      ]
    }
  ],
  "metadata": {
    "colab": {
      "provenance": []
    },
    "kernelspec": {
      "display_name": "Python 3",
      "name": "python3"
    },
    "language_info": {
      "name": "python"
    }
  },
  "nbformat": 4,
  "nbformat_minor": 0
}